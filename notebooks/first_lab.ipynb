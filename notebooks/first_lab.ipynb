{
 "cells": [
  {
   "cell_type": "code",
   "execution_count": 4,
   "id": "5d8df0e3",
   "metadata": {
    "ExecuteTime": {
     "end_time": "2023-10-15T08:24:36.247166100Z",
     "start_time": "2023-10-15T08:24:36.229121100Z"
    }
   },
   "outputs": [],
   "source": [
    "import pandas as pd\n",
    "from pandas import DataFrame"
   ]
  },
  {
   "cell_type": "code",
   "execution_count": 5,
   "outputs": [
    {
     "data": {
      "text/plain": "     Ozone  Solar.R  Wind  Temp  Month  Day\n0     41.0    190.0   7.4    67      5    1\n1     36.0    118.0   8.0    72      5    2\n2     12.0    149.0  12.6    74      5    3\n3     18.0    313.0  11.5    62      5    4\n4      NaN      NaN  14.3    56      5    5\n..     ...      ...   ...   ...    ...  ...\n148   30.0    193.0   6.9    70      9   26\n149    NaN    145.0  13.2    77      9   27\n150   14.0    191.0  14.3    75      9   28\n151   18.0    131.0   8.0    76      9   29\n152   20.0    223.0  11.5    68      9   30\n\n[153 rows x 6 columns]",
      "text/html": "<div>\n<style scoped>\n    .dataframe tbody tr th:only-of-type {\n        vertical-align: middle;\n    }\n\n    .dataframe tbody tr th {\n        vertical-align: top;\n    }\n\n    .dataframe thead th {\n        text-align: right;\n    }\n</style>\n<table border=\"1\" class=\"dataframe\">\n  <thead>\n    <tr style=\"text-align: right;\">\n      <th></th>\n      <th>Ozone</th>\n      <th>Solar.R</th>\n      <th>Wind</th>\n      <th>Temp</th>\n      <th>Month</th>\n      <th>Day</th>\n    </tr>\n  </thead>\n  <tbody>\n    <tr>\n      <th>0</th>\n      <td>41.0</td>\n      <td>190.0</td>\n      <td>7.4</td>\n      <td>67</td>\n      <td>5</td>\n      <td>1</td>\n    </tr>\n    <tr>\n      <th>1</th>\n      <td>36.0</td>\n      <td>118.0</td>\n      <td>8.0</td>\n      <td>72</td>\n      <td>5</td>\n      <td>2</td>\n    </tr>\n    <tr>\n      <th>2</th>\n      <td>12.0</td>\n      <td>149.0</td>\n      <td>12.6</td>\n      <td>74</td>\n      <td>5</td>\n      <td>3</td>\n    </tr>\n    <tr>\n      <th>3</th>\n      <td>18.0</td>\n      <td>313.0</td>\n      <td>11.5</td>\n      <td>62</td>\n      <td>5</td>\n      <td>4</td>\n    </tr>\n    <tr>\n      <th>4</th>\n      <td>NaN</td>\n      <td>NaN</td>\n      <td>14.3</td>\n      <td>56</td>\n      <td>5</td>\n      <td>5</td>\n    </tr>\n    <tr>\n      <th>...</th>\n      <td>...</td>\n      <td>...</td>\n      <td>...</td>\n      <td>...</td>\n      <td>...</td>\n      <td>...</td>\n    </tr>\n    <tr>\n      <th>148</th>\n      <td>30.0</td>\n      <td>193.0</td>\n      <td>6.9</td>\n      <td>70</td>\n      <td>9</td>\n      <td>26</td>\n    </tr>\n    <tr>\n      <th>149</th>\n      <td>NaN</td>\n      <td>145.0</td>\n      <td>13.2</td>\n      <td>77</td>\n      <td>9</td>\n      <td>27</td>\n    </tr>\n    <tr>\n      <th>150</th>\n      <td>14.0</td>\n      <td>191.0</td>\n      <td>14.3</td>\n      <td>75</td>\n      <td>9</td>\n      <td>28</td>\n    </tr>\n    <tr>\n      <th>151</th>\n      <td>18.0</td>\n      <td>131.0</td>\n      <td>8.0</td>\n      <td>76</td>\n      <td>9</td>\n      <td>29</td>\n    </tr>\n    <tr>\n      <th>152</th>\n      <td>20.0</td>\n      <td>223.0</td>\n      <td>11.5</td>\n      <td>68</td>\n      <td>9</td>\n      <td>30</td>\n    </tr>\n  </tbody>\n</table>\n<p>153 rows × 6 columns</p>\n</div>"
     },
     "execution_count": 5,
     "metadata": {},
     "output_type": "execute_result"
    }
   ],
   "source": [
    "df = pd.read_csv('../datasets/airquality.csv', header=0)\n",
    "df"
   ],
   "metadata": {
    "collapsed": false,
    "ExecuteTime": {
     "end_time": "2023-10-15T08:24:36.258110900Z",
     "start_time": "2023-10-15T08:24:36.229632Z"
    }
   },
   "id": "e4b223df405310e4"
  },
  {
   "cell_type": "code",
   "execution_count": 6,
   "id": "ee2f9733",
   "metadata": {
    "ExecuteTime": {
     "end_time": "2023-10-15T08:24:36.261276500Z",
     "start_time": "2023-10-15T08:24:36.239543800Z"
    }
   },
   "outputs": [
    {
     "data": {
      "text/plain": "153"
     },
     "execution_count": 6,
     "metadata": {},
     "output_type": "execute_result"
    }
   ],
   "source": [
    "df.shape[0]"
   ]
  },
  {
   "cell_type": "code",
   "execution_count": 7,
   "id": "0f06879e",
   "metadata": {
    "ExecuteTime": {
     "end_time": "2023-10-15T08:24:36.261787600Z",
     "start_time": "2023-10-15T08:24:36.243199500Z"
    }
   },
   "outputs": [
    {
     "data": {
      "text/plain": "6"
     },
     "execution_count": 7,
     "metadata": {},
     "output_type": "execute_result"
    }
   ],
   "source": [
    "df.shape[1]"
   ]
  },
  {
   "cell_type": "code",
   "execution_count": 8,
   "id": "67fc5cdb",
   "metadata": {
    "ExecuteTime": {
     "end_time": "2023-10-15T08:24:36.313556100Z",
     "start_time": "2023-10-15T08:24:36.247166100Z"
    }
   },
   "outputs": [
    {
     "data": {
      "text/plain": "111"
     },
     "execution_count": 8,
     "metadata": {},
     "output_type": "execute_result"
    }
   ],
   "source": [
    "sum([True for idx, row in df.iterrows() if not any(row.isna())])"
   ]
  },
  {
   "cell_type": "code",
   "execution_count": 9,
   "id": "f5029ec6",
   "metadata": {
    "ExecuteTime": {
     "end_time": "2023-10-15T08:24:36.314064400Z",
     "start_time": "2023-10-15T08:24:36.258110900Z"
    }
   },
   "outputs": [],
   "source": [
    "def show_statistic(df, column_name):\n",
    "    print(f\"Статистика по {column_name}\")\n",
    "    print(df[column_name].dropna().min())\n",
    "    print(df[column_name].dropna().max())\n",
    "    print(df[column_name].dropna().mean())"
   ]
  },
  {
   "cell_type": "code",
   "execution_count": 10,
   "id": "987a55c2",
   "metadata": {
    "ExecuteTime": {
     "end_time": "2023-10-15T08:24:36.314064400Z",
     "start_time": "2023-10-15T08:24:36.261787600Z"
    }
   },
   "outputs": [
    {
     "name": "stdout",
     "output_type": "stream",
     "text": [
      "Статистика по Ozone\n",
      "1.0\n",
      "168.0\n",
      "42.12931034482759\n"
     ]
    }
   ],
   "source": [
    "show_statistic(df, 'Ozone')"
   ]
  },
  {
   "cell_type": "code",
   "execution_count": 11,
   "id": "f7cb4fc0",
   "metadata": {
    "ExecuteTime": {
     "end_time": "2023-10-15T08:24:36.345334900Z",
     "start_time": "2023-10-15T08:24:36.266657600Z"
    }
   },
   "outputs": [
    {
     "name": "stdout",
     "output_type": "stream",
     "text": [
      "Статистика по Solar.R\n",
      "7.0\n",
      "334.0\n",
      "185.93150684931507\n"
     ]
    }
   ],
   "source": [
    "show_statistic(df, 'Solar.R')"
   ]
  },
  {
   "cell_type": "code",
   "execution_count": 12,
   "id": "bbcf653a",
   "metadata": {
    "ExecuteTime": {
     "end_time": "2023-10-15T08:24:36.360951700Z",
     "start_time": "2023-10-15T08:24:36.270871500Z"
    }
   },
   "outputs": [
    {
     "name": "stdout",
     "output_type": "stream",
     "text": [
      "Статистика по Wind\n",
      "1.7\n",
      "20.7\n",
      "9.957516339869281\n"
     ]
    }
   ],
   "source": [
    "show_statistic(df, 'Wind')"
   ]
  },
  {
   "cell_type": "code",
   "execution_count": 13,
   "id": "71e8225e",
   "metadata": {
    "ExecuteTime": {
     "end_time": "2023-10-15T08:24:36.360951700Z",
     "start_time": "2023-10-15T08:24:36.275024300Z"
    }
   },
   "outputs": [
    {
     "name": "stdout",
     "output_type": "stream",
     "text": [
      "Статистика по Temp\n",
      "56\n",
      "97\n",
      "77.88235294117646\n"
     ]
    }
   ],
   "source": [
    "show_statistic(df, 'Temp')"
   ]
  },
  {
   "cell_type": "code",
   "execution_count": 14,
   "id": "1b3455ac",
   "metadata": {
    "ExecuteTime": {
     "end_time": "2023-10-15T08:24:36.360951700Z",
     "start_time": "2023-10-15T08:24:36.279057500Z"
    }
   },
   "outputs": [
    {
     "data": {
      "text/plain": "181.2962962962963"
     },
     "execution_count": 14,
     "metadata": {},
     "output_type": "execute_result"
    }
   ],
   "source": [
    "df.loc[df['Month'] == 5, 'Solar.R'].dropna().mean()"
   ]
  },
  {
   "cell_type": "code",
   "execution_count": 15,
   "id": "c34bf32e",
   "metadata": {
    "ExecuteTime": {
     "end_time": "2023-10-15T08:24:36.360951700Z",
     "start_time": "2023-10-15T08:24:36.284107400Z"
    }
   },
   "outputs": [
    {
     "data": {
      "text/plain": "23.775862068965516"
     },
     "execution_count": 15,
     "metadata": {},
     "output_type": "execute_result"
    }
   ],
   "source": [
    "def mean_air(df: DataFrame, column_name: str, temp_min: int = 60, temp_max: int = 80) -> float:\n",
    "    return df.loc[df['Temp'].between(temp_min, temp_max), column_name].dropna().mean()\n",
    "\n",
    "mean_air(df, 'Ozone')"
   ]
  },
  {
   "cell_type": "code",
   "execution_count": 16,
   "id": "ee45d06b",
   "metadata": {
    "ExecuteTime": {
     "end_time": "2023-10-15T08:24:36.360951700Z",
     "start_time": "2023-10-15T08:24:36.289231800Z"
    }
   },
   "outputs": [
    {
     "data": {
      "text/plain": "Month\n5    181.296296\n6    190.166667\n7    216.483871\n8    171.857143\n9    167.433333\nName: Solar.R, dtype: float64"
     },
     "execution_count": 16,
     "metadata": {},
     "output_type": "execute_result"
    }
   ],
   "source": [
    "df.groupby('Month').mean()['Solar.R']"
   ]
  },
  {
   "cell_type": "code",
   "execution_count": 17,
   "id": "94f3a047",
   "metadata": {
    "ExecuteTime": {
     "end_time": "2023-10-15T08:24:36.360951700Z",
     "start_time": "2023-10-15T08:24:36.295930300Z"
    }
   },
   "outputs": [
    {
     "data": {
      "text/plain": "     Month  Day\n119      8   28\n121      8   30\n122      8   31\n120      8   29\n41       6   11",
      "text/html": "<div>\n<style scoped>\n    .dataframe tbody tr th:only-of-type {\n        vertical-align: middle;\n    }\n\n    .dataframe tbody tr th {\n        vertical-align: top;\n    }\n\n    .dataframe thead th {\n        text-align: right;\n    }\n</style>\n<table border=\"1\" class=\"dataframe\">\n  <thead>\n    <tr style=\"text-align: right;\">\n      <th></th>\n      <th>Month</th>\n      <th>Day</th>\n    </tr>\n  </thead>\n  <tbody>\n    <tr>\n      <th>119</th>\n      <td>8</td>\n      <td>28</td>\n    </tr>\n    <tr>\n      <th>121</th>\n      <td>8</td>\n      <td>30</td>\n    </tr>\n    <tr>\n      <th>122</th>\n      <td>8</td>\n      <td>31</td>\n    </tr>\n    <tr>\n      <th>120</th>\n      <td>8</td>\n      <td>29</td>\n    </tr>\n    <tr>\n      <th>41</th>\n      <td>6</td>\n      <td>11</td>\n    </tr>\n  </tbody>\n</table>\n</div>"
     },
     "execution_count": 17,
     "metadata": {},
     "output_type": "execute_result"
    }
   ],
   "source": [
    "def max_temp(df: DataFrame, days: int = 1):\n",
    "    return df.sort_values(by=['Temp'], ascending=False).head(days)[['Month', 'Day']]\n",
    "\n",
    "max_temp(df, 5)"
   ]
  },
  {
   "cell_type": "code",
   "execution_count": 18,
   "id": "43864176",
   "metadata": {
    "ExecuteTime": {
     "end_time": "2023-10-15T08:24:36.360951700Z",
     "start_time": "2023-10-15T08:24:36.303483400Z"
    }
   },
   "outputs": [
    {
     "data": {
      "text/plain": "     Ozone  Solar.R  Wind  Temp  Month  Day\n143   13.0    238.0  12.6    64      9   21\n34     NaN    186.0   9.2    84      6    4\n77    35.0    274.0  10.3    82      7   17\n4      NaN      NaN  14.3    56      5    5\n95    78.0      NaN   6.9    86      8    4\n31     NaN    286.0   8.6    78      6    1\n101    NaN    222.0   8.6    92      8   10\n9      NaN    194.0   8.6    69      5   10\n57     NaN     47.0  10.3    73      6   27\n25     NaN    266.0  14.9    58      5   26\n64     NaN    101.0  10.9    84      7    4\n38     NaN    273.0   6.9    87      6    8\n6     23.0    299.0   8.6    65      5    7\n43    23.0    148.0   8.0    82      6   13\n5     28.0      NaN  14.9    66      5    6\n96    35.0      NaN   7.4    85      8    5\n81    16.0      7.0   6.9    74      7   21\n71     NaN    139.0   8.6    82      7   11\n147   14.0     20.0  16.6    63      9   25\n26     NaN      NaN   8.0    57      5   27\n19    11.0     44.0   9.7    62      5   20\n27    23.0     13.0  12.0    67      5   28\n12    11.0    290.0   9.2    66      5   13\n125   73.0    183.0   2.8    93      9    3\n97    66.0      NaN   4.6    87      8    6\n69    97.0    272.0   5.7    92      7    9\n83     NaN    295.0  11.5    82      7   23\n106    NaN     64.0  11.5    79      8   15\n130   23.0    220.0  10.3    78      9    8\n3     18.0    313.0  11.5    62      5    4",
      "text/html": "<div>\n<style scoped>\n    .dataframe tbody tr th:only-of-type {\n        vertical-align: middle;\n    }\n\n    .dataframe tbody tr th {\n        vertical-align: top;\n    }\n\n    .dataframe thead th {\n        text-align: right;\n    }\n</style>\n<table border=\"1\" class=\"dataframe\">\n  <thead>\n    <tr style=\"text-align: right;\">\n      <th></th>\n      <th>Ozone</th>\n      <th>Solar.R</th>\n      <th>Wind</th>\n      <th>Temp</th>\n      <th>Month</th>\n      <th>Day</th>\n    </tr>\n  </thead>\n  <tbody>\n    <tr>\n      <th>143</th>\n      <td>13.0</td>\n      <td>238.0</td>\n      <td>12.6</td>\n      <td>64</td>\n      <td>9</td>\n      <td>21</td>\n    </tr>\n    <tr>\n      <th>34</th>\n      <td>NaN</td>\n      <td>186.0</td>\n      <td>9.2</td>\n      <td>84</td>\n      <td>6</td>\n      <td>4</td>\n    </tr>\n    <tr>\n      <th>77</th>\n      <td>35.0</td>\n      <td>274.0</td>\n      <td>10.3</td>\n      <td>82</td>\n      <td>7</td>\n      <td>17</td>\n    </tr>\n    <tr>\n      <th>4</th>\n      <td>NaN</td>\n      <td>NaN</td>\n      <td>14.3</td>\n      <td>56</td>\n      <td>5</td>\n      <td>5</td>\n    </tr>\n    <tr>\n      <th>95</th>\n      <td>78.0</td>\n      <td>NaN</td>\n      <td>6.9</td>\n      <td>86</td>\n      <td>8</td>\n      <td>4</td>\n    </tr>\n    <tr>\n      <th>31</th>\n      <td>NaN</td>\n      <td>286.0</td>\n      <td>8.6</td>\n      <td>78</td>\n      <td>6</td>\n      <td>1</td>\n    </tr>\n    <tr>\n      <th>101</th>\n      <td>NaN</td>\n      <td>222.0</td>\n      <td>8.6</td>\n      <td>92</td>\n      <td>8</td>\n      <td>10</td>\n    </tr>\n    <tr>\n      <th>9</th>\n      <td>NaN</td>\n      <td>194.0</td>\n      <td>8.6</td>\n      <td>69</td>\n      <td>5</td>\n      <td>10</td>\n    </tr>\n    <tr>\n      <th>57</th>\n      <td>NaN</td>\n      <td>47.0</td>\n      <td>10.3</td>\n      <td>73</td>\n      <td>6</td>\n      <td>27</td>\n    </tr>\n    <tr>\n      <th>25</th>\n      <td>NaN</td>\n      <td>266.0</td>\n      <td>14.9</td>\n      <td>58</td>\n      <td>5</td>\n      <td>26</td>\n    </tr>\n    <tr>\n      <th>64</th>\n      <td>NaN</td>\n      <td>101.0</td>\n      <td>10.9</td>\n      <td>84</td>\n      <td>7</td>\n      <td>4</td>\n    </tr>\n    <tr>\n      <th>38</th>\n      <td>NaN</td>\n      <td>273.0</td>\n      <td>6.9</td>\n      <td>87</td>\n      <td>6</td>\n      <td>8</td>\n    </tr>\n    <tr>\n      <th>6</th>\n      <td>23.0</td>\n      <td>299.0</td>\n      <td>8.6</td>\n      <td>65</td>\n      <td>5</td>\n      <td>7</td>\n    </tr>\n    <tr>\n      <th>43</th>\n      <td>23.0</td>\n      <td>148.0</td>\n      <td>8.0</td>\n      <td>82</td>\n      <td>6</td>\n      <td>13</td>\n    </tr>\n    <tr>\n      <th>5</th>\n      <td>28.0</td>\n      <td>NaN</td>\n      <td>14.9</td>\n      <td>66</td>\n      <td>5</td>\n      <td>6</td>\n    </tr>\n    <tr>\n      <th>96</th>\n      <td>35.0</td>\n      <td>NaN</td>\n      <td>7.4</td>\n      <td>85</td>\n      <td>8</td>\n      <td>5</td>\n    </tr>\n    <tr>\n      <th>81</th>\n      <td>16.0</td>\n      <td>7.0</td>\n      <td>6.9</td>\n      <td>74</td>\n      <td>7</td>\n      <td>21</td>\n    </tr>\n    <tr>\n      <th>71</th>\n      <td>NaN</td>\n      <td>139.0</td>\n      <td>8.6</td>\n      <td>82</td>\n      <td>7</td>\n      <td>11</td>\n    </tr>\n    <tr>\n      <th>147</th>\n      <td>14.0</td>\n      <td>20.0</td>\n      <td>16.6</td>\n      <td>63</td>\n      <td>9</td>\n      <td>25</td>\n    </tr>\n    <tr>\n      <th>26</th>\n      <td>NaN</td>\n      <td>NaN</td>\n      <td>8.0</td>\n      <td>57</td>\n      <td>5</td>\n      <td>27</td>\n    </tr>\n    <tr>\n      <th>19</th>\n      <td>11.0</td>\n      <td>44.0</td>\n      <td>9.7</td>\n      <td>62</td>\n      <td>5</td>\n      <td>20</td>\n    </tr>\n    <tr>\n      <th>27</th>\n      <td>23.0</td>\n      <td>13.0</td>\n      <td>12.0</td>\n      <td>67</td>\n      <td>5</td>\n      <td>28</td>\n    </tr>\n    <tr>\n      <th>12</th>\n      <td>11.0</td>\n      <td>290.0</td>\n      <td>9.2</td>\n      <td>66</td>\n      <td>5</td>\n      <td>13</td>\n    </tr>\n    <tr>\n      <th>125</th>\n      <td>73.0</td>\n      <td>183.0</td>\n      <td>2.8</td>\n      <td>93</td>\n      <td>9</td>\n      <td>3</td>\n    </tr>\n    <tr>\n      <th>97</th>\n      <td>66.0</td>\n      <td>NaN</td>\n      <td>4.6</td>\n      <td>87</td>\n      <td>8</td>\n      <td>6</td>\n    </tr>\n    <tr>\n      <th>69</th>\n      <td>97.0</td>\n      <td>272.0</td>\n      <td>5.7</td>\n      <td>92</td>\n      <td>7</td>\n      <td>9</td>\n    </tr>\n    <tr>\n      <th>83</th>\n      <td>NaN</td>\n      <td>295.0</td>\n      <td>11.5</td>\n      <td>82</td>\n      <td>7</td>\n      <td>23</td>\n    </tr>\n    <tr>\n      <th>106</th>\n      <td>NaN</td>\n      <td>64.0</td>\n      <td>11.5</td>\n      <td>79</td>\n      <td>8</td>\n      <td>15</td>\n    </tr>\n    <tr>\n      <th>130</th>\n      <td>23.0</td>\n      <td>220.0</td>\n      <td>10.3</td>\n      <td>78</td>\n      <td>9</td>\n      <td>8</td>\n    </tr>\n    <tr>\n      <th>3</th>\n      <td>18.0</td>\n      <td>313.0</td>\n      <td>11.5</td>\n      <td>62</td>\n      <td>5</td>\n      <td>4</td>\n    </tr>\n  </tbody>\n</table>\n</div>"
     },
     "execution_count": 18,
     "metadata": {},
     "output_type": "execute_result"
    }
   ],
   "source": [
    "def generate_test_set(df: DataFrame, perc: float = 20.) -> DataFrame:\n",
    "    if perc > 100 or perc < 0:\n",
    "        raise ValueError(f\"incorrect percentile for test generation: {perc}\")\n",
    "\n",
    "    return df.sample(int(df.shape[0] * perc / 100))\n",
    "\n",
    "generate_test_set(df)"
   ]
  }
 ],
 "metadata": {
  "kernelspec": {
   "display_name": "Python 3 (ipykernel)",
   "language": "python",
   "name": "python3"
  },
  "language_info": {
   "codemirror_mode": {
    "name": "ipython",
    "version": 3
   },
   "file_extension": ".py",
   "mimetype": "text/x-python",
   "name": "python",
   "nbconvert_exporter": "python",
   "pygments_lexer": "ipython3",
   "version": "3.11.5"
  }
 },
 "nbformat": 4,
 "nbformat_minor": 5
}
